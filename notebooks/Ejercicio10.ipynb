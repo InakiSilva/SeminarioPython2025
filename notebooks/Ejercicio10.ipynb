{
 "cells": [
  {
   "cell_type": "code",
   "execution_count": 1,
   "metadata": {},
   "outputs": [
    {
     "name": "stdout",
     "output_type": "stream",
     "text": [
      "['c:\\\\Users\\\\inaki\\\\AppData\\\\Local\\\\Programs\\\\Python\\\\Python312\\\\python312.zip', 'c:\\\\Users\\\\inaki\\\\AppData\\\\Local\\\\Programs\\\\Python\\\\Python312\\\\DLLs', 'c:\\\\Users\\\\inaki\\\\AppData\\\\Local\\\\Programs\\\\Python\\\\Python312\\\\Lib', 'c:\\\\Users\\\\inaki\\\\AppData\\\\Local\\\\Programs\\\\Python\\\\Python312', '', 'C:\\\\Users\\\\inaki\\\\AppData\\\\Roaming\\\\Python\\\\Python312\\\\site-packages', 'C:\\\\Users\\\\inaki\\\\AppData\\\\Roaming\\\\Python\\\\Python312\\\\site-packages\\\\win32', 'C:\\\\Users\\\\inaki\\\\AppData\\\\Roaming\\\\Python\\\\Python312\\\\site-packages\\\\win32\\\\lib', 'C:\\\\Users\\\\inaki\\\\AppData\\\\Roaming\\\\Python\\\\Python312\\\\site-packages\\\\Pythonwin', 'c:\\\\Users\\\\inaki\\\\AppData\\\\Local\\\\Programs\\\\Python\\\\Python312\\\\Lib\\\\site-packages', 'c:\\\\Users\\\\inaki\\\\desktop\\\\python2025\\\\Practica2']\n"
     ]
    }
   ],
   "source": [
    "import sys\n",
    "import os\n",
    "\n",
    "# Agregar la carpeta raíz del proyecto\n",
    "sys.path.append(os.path.abspath(\"..\"))\n",
    "\n",
    "# Verificar si src es accesible\n",
    "print(sys.path)\n"
   ]
  },
  {
   "cell_type": "code",
   "execution_count": 2,
   "metadata": {},
   "outputs": [
    {
     "name": "stdout",
     "output_type": "stream",
     "text": [
      "\n",
      "Ranking ronda 1:\n",
      "Jugador      Kills   Asistencias   Muertes   MVPs   Puntos\n",
      "----------------------------------------------------------\n",
      "Shadow      2       1            1         1      6\n",
      "Viper       1       2            1         0      4\n",
      "Reaper      1       1            0         0      4\n",
      "Blaze       1       0            0         0      3\n",
      "Frost       0       1            0         0      1\n",
      "\n",
      "Ranking ronda 2:\n",
      "Jugador      Kills   Asistencias   Muertes   MVPs   Puntos\n",
      "----------------------------------------------------------\n",
      "Shadow      2       3            1         1      8\n",
      "Blaze       3       0            1         0      8\n",
      "Viper       2       3            1         0      8\n",
      "Frost       2       2            1         1      7\n",
      "Reaper      1       2            0         0      5\n",
      "\n",
      "Ranking ronda 3:\n",
      "Jugador      Kills   Asistencias   Muertes   MVPs   Puntos\n",
      "----------------------------------------------------------\n",
      "Blaze       5       2            2         1      15\n",
      "Shadow      3       3            1         1      11\n",
      "Viper       3       4            2         0      11\n",
      "Reaper      2       3            0         0      9\n",
      "Frost       2       3            1         1      8\n",
      "\n",
      "Ranking ronda 4:\n",
      "Jugador      Kills   Asistencias   Muertes   MVPs   Puntos\n",
      "----------------------------------------------------------\n",
      "Shadow      5       4            1         2      18\n",
      "Blaze       6       2            3         1      17\n",
      "Viper       3       6            2         0      13\n",
      "Reaper      3       4            0         0      13\n",
      "Frost       3       4            2         1      11\n",
      "\n",
      "Ranking ronda 5:\n",
      "Jugador      Kills   Asistencias   Muertes   MVPs   Puntos\n",
      "----------------------------------------------------------\n",
      "Shadow      6       6            2         2      22\n",
      "Blaze       6       3            3         1      18\n",
      "Viper       5       6            3         1      18\n",
      "Reaper      4       5            1         0      16\n",
      "Frost       4       5            2         1      15\n",
      "\n",
      " Ranking Final \n",
      "Jugador      Kills   Asistencias   Muertes   MVPs   Puntos\n",
      "----------------------------------------------------------\n",
      "Shadow      6       6            2         2      22\n",
      "Blaze       6       3            3         1      18\n",
      "Viper       5       6            3         1      18\n",
      "Reaper      4       5            1         0      16\n",
      "Frost       4       5            2         1      15\n"
     ]
    }
   ],
   "source": [
    "from src import main\n",
    "main.programEjecution()\n"
   ]
  }
 ],
 "metadata": {
  "kernelspec": {
   "display_name": "Python 3 (ipykernel)",
   "language": "python",
   "name": "python3"
  },
  "language_info": {
   "codemirror_mode": {
    "name": "ipython",
    "version": 3
   },
   "file_extension": ".py",
   "mimetype": "text/x-python",
   "name": "python",
   "nbconvert_exporter": "python",
   "pygments_lexer": "ipython3",
   "version": "3.12.9"
  }
 },
 "nbformat": 4,
 "nbformat_minor": 4
}
